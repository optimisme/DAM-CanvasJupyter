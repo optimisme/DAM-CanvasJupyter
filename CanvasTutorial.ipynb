{
 "cells": [
  {
   "cell_type": "markdown",
   "id": "e4fc9632",
   "metadata": {},
   "source": [
    "# Canvas for Jupyter\n",
    "\n",
    "This small Python library allows drawing in Jupyter using the drawing Canvas. It acts as a bridge between Python and Javascript; for this reason, it's necessary to call the 'ctx.display()' function every time you want to process the drawing.\n",
    "\n",
    "Here's an example."
   ]
  },
  {
   "cell_type": "markdown",
   "id": "a538865d",
   "metadata": {},
   "source": [
    "## How to use it\n",
    "\n",
    "To use the library, you first need to import it:\n",
    "\n",
    "```python\n",
    "from Canvas import Canvas\n",
    "```\n",
    "\n",
    "Next, you need to create a CanvasContext object. In this object, you define the identifier of the Canvas where the drawing will be done, as well as the dimensions of the Canvas.\n",
    "\n",
    "```python\n",
    "ctx = CanvasContext(\"canvas\", 500, 300)\n",
    "```\n",
    "\n",
    "**Note**: Keep in mind, in a Jupyter Notebook, if you repeat a canvas identifier, the drawing will appear on the first ouput (canvas) that was executed with that identifier.\n",
    "\n",
    "Finally, to display the drawing, you need to call the 'display' function of the CanvasContext object.\n",
    "\n",
    "```python  \n",
    "ctx.display()\n",
    "```"
   ]
  },
  {
   "cell_type": "code",
   "execution_count": 2,
   "id": "718d759e",
   "metadata": {},
   "outputs": [
    {
     "data": {
      "text/html": [
       "<canvas id=\"cnv0\" width=\"500\" height=\"300\" style=\"border:1px solid black;\"></canvas>"
      ],
      "text/plain": [
       "<IPython.core.display.HTML object>"
      ]
     },
     "metadata": {},
     "output_type": "display_data"
    },
    {
     "data": {
      "application/javascript": "\n        var canvas = document.getElementById('cnv5');\n        var ctx = canvas.getContext('2d');\n        \n        ctx.save();\n        \n        ctx.save();\n        ctx.fillStyle = \"white\";\n        ctx.fillRect(0, 0, ctx.canvas.width, ctx.canvas.height);\n        ctx.restore();\n        \n        ctx.save();\n        for (let x = 0; x <= ctx.canvas.width; x += 25) {\n            ctx.strokeStyle = (x % 50 === 0) ? \"#888888\" : \"#cccccc\";\n            ctx.beginPath();\n            ctx.moveTo(x, 0);\n            ctx.lineTo(x, ctx.canvas.height);\n            ctx.stroke();\n            \n            if (x % 50 === 0 && x !== 0) {\n                ctx.fillStyle = \"#000000\";\n                ctx.fillText(x.toString(), x, 10);\n            }\n        }\n        for (let y = 0; y <= ctx.canvas.height; y += 25) {\n            ctx.strokeStyle = (y % 50 === 0) ? \"#888888\" : \"#cccccc\";\n            ctx.beginPath();\n            ctx.moveTo(0, y);\n            ctx.lineTo(ctx.canvas.width, y);\n            ctx.stroke();\n            \n            if (y % 50 === 0 && y !== 0) {\n                ctx.fillStyle = \"#000000\";\n                ctx.fillText(y.toString(), 5, y + 10);\n            }\n        }\n        ctx.restore();\n        \n        ctx.font = `18px Arial`;\n        \n        ctx.fillStyle = `black`;\n        \n        ctx.fillText(`Move mouse`, 50, 50);\n        \n        ctx.fillText(`over this canvas`, 50, 75);\n        \n\nwindow.getMousePos = function(canvas, evt) {\n    var cnv = document.getElementById(\"cnv5\");\n    var rect = cnv.getBoundingClientRect();\n    var scaleX = canvas.width / rect.width;\n    var scaleY = canvas.height / rect.height;\n\n    return {\n        x: (evt.clientX - rect.left) * scaleX,\n        y: (evt.clientY - rect.top) * scaleY\n    };\n}\n\nwindow.updateDrawing5 = function() {\n    var cnv = document.getElementById(\"cnv5\");\n    var ctx = cnv.getContext(\"2d\");\n                  \n    var cnvWidth = cnv.width;\n    var cnvHeight = cnv.height;\n    var mousePos = getMousePos(ctx.canvas, event);\n    var mX = mousePos.x;\n    var mY = mousePos.y;\n\n    ctx.save();\n    ctx.fillStyle = \"white\";\n    ctx.fillRect(0, 0, cnvWidth, cnvHeight);\n    \n    ctx.strokeStyle = \"green\";\n    ctx.lineWidth = 8;\n    ctx.beginPath();\n    ctx.arc(mX, mY, 16, 0, 2 * Math.PI);\n    ctx.stroke();\n    ctx.restore();\n}\n\nwindow.removeEventListener(\"mousemove\", window.currentListener);\nwindow.currentListener = updateDrawing5;\nwindow.addEventListener(\"mousemove\", window.currentListener);\n\n        ctx.restore();\n        \n        var canvas = document.getElementById('cnv0');\n        var ctx = canvas.getContext('2d');\n        \n        ctx.save();\n        \n        ctx.fillStyle = `white`;\n        \n        ctx.fillRect(0, 0, 500, 300);\n        \n        ctx.fillStyle = `rgb(0, 0, 200)`;\n        \n        ctx.fillRect(50, 50, 200, 100);\n        \n        ctx.strokeStyle = `green`;\n        \n        ctx.lineWidth = 5;\n        \n        ctx.strokeRect(100, 100, 200, 100);\n        \n        ctx.fillStyle = `black`;\n        \n        ctx.font = `26px Arial`;\n        \n        ctx.fillText(`Hello, world!`, 150, 250);\n        \n        ctx.restore();\n        ",
      "text/plain": [
       "<IPython.core.display.Javascript object>"
      ]
     },
     "metadata": {},
     "output_type": "display_data"
    }
   ],
   "source": [
    "from CanvasContext import CanvasContext\n",
    "\n",
    "# Create a canvas with an identifier \"cnv0\" of 500x300 pixels\n",
    "ctx = CanvasContext(\"cnv0\", 500, 300)\n",
    "\n",
    "ctx.save()\n",
    "\n",
    "# Draw the white background\n",
    "ctx.fillStyle = \"white\"\n",
    "ctx.fillRect(0, 0, 500, 300)\n",
    "\n",
    "# Draw a filled rectangle at position (50, 50) with dimensions 200x100\n",
    "ctx.fillStyle = \"rgb(0, 0, 200)\"\n",
    "ctx.fillRect(50, 50, 200, 100)\n",
    "\n",
    "# Set the stroke style to green and draw a rectangle at position (100, 100) with dimensions 200x100\n",
    "ctx.strokeStyle = \"green\"\n",
    "ctx.lineWidth = 5\n",
    "ctx.strokeRect(100, 100, 200, 100)\n",
    "\n",
    "# Draw text at position (150, 250)\n",
    "ctx.fillStyle = \"black\"\n",
    "ctx.font = \"26px Arial\"\n",
    "ctx.fillText(\"Hello, world!\", 150, 250)\n",
    "\n",
    "ctx.restore()\n",
    "\n",
    "# Send drawing commands to the browser\n",
    "ctx.display()"
   ]
  },
  {
   "cell_type": "markdown",
   "id": "66eb5c6b",
   "metadata": {},
   "source": [
    "## Variables\n",
    "\n",
    "Variables require special handling.\n",
    "\n",
    "First, they need to be declared with 'addVariable', and to modify their value, you can use 'setVariable'.\n",
    "\n",
    "Some things should be kept in mind:\n",
    "\n",
    "- Within text strings, they can be used directly with the notation \\$\\{ \\}\n",
    "\n",
    "- When wanting to perform operations, the expression also needs to be placed within a text string using the notation \\$\\{ \\}\n",
    "\n",
    "- When getting values from context, a parameter 'destination variable name' must be passed"
   ]
  },
  {
   "cell_type": "code",
   "execution_count": null,
   "id": "d776f3b7",
   "metadata": {},
   "outputs": [],
   "source": [
    "from CanvasContext import CanvasContext\n",
    "\n",
    "# Create a canvas\n",
    "ctx = CanvasContext(\"cnv2\", 350, 200)\n",
    "\n",
    "ctx.save()\n",
    "\n",
    "# Draw the white background\n",
    "ctx.fillStyle = \"white\"\n",
    "ctx.fillRect(0, 0, 350, 200)\n",
    "\n",
    "# Set text style\n",
    "ctx.font = \"18px Arial\"\n",
    "ctx.fillStyle = \"black\"\n",
    "\n",
    "# Define 'a' variable\n",
    "ctx.addVariable(\"a\", 50)\n",
    "\n",
    "# Draw text at position (a, 50)\n",
    "ctx.fillText(\"ABC\", \"${a}\", 50)\n",
    "\n",
    "# Draw text at position (a + 50, 75)\n",
    "ctx.fillText(\"DEF\", \"${a + 50}\", 75)\n",
    "\n",
    "# Change 'a' variable value\n",
    "ctx.setVariable(\"a\", 150)\n",
    "ctx.fillText(\"GHI\", \"${a}\", 100)\n",
    "\n",
    "# Add 50 to 'a'\n",
    "ctx.setVariable(\"a\", \"${a + 50}\")\n",
    "ctx.fillText(\"JKL\", \"${a}\", 125)\n",
    "\n",
    "# Get context values (text metrics)\n",
    "ctx.addVariable(\"x\", 50)\n",
    "ctx.addVariable(\"text\", \"Hello, world!\")\n",
    "ctx.addVariable(\"metrics\", \"\")\n",
    "ctx.measureText(\"metrics\", \"${text}\")\n",
    "ctx.fillText(\"Width of '${text}': ${metrics.width.toFixed(2)}\", \"${x}\", 150)\n",
    "ctx.fillText(\"${text}\", 50, 175)\n",
    "ctx.fillText(\"<<<<\", \"${x + metrics.width}\", 175)\n",
    "\n",
    "ctx.restore()\n",
    "\n",
    "# Send drawing commands to the browser\n",
    "ctx.display()"
   ]
  },
  {
   "cell_type": "markdown",
   "id": "0de23508",
   "metadata": {},
   "source": [
    "## Extra functions\n",
    "\n",
    "There are two extra functions that can be used to draw text on the canvas:\n",
    "\n",
    "**drawWhiteBackground**: draws a white background on the canvas\n",
    "\n",
    "**drawGridBackground**: draws a grid background on the canvas\n",
    "\n",
    "*Note*: 'drawGridBackground' first calls 'drawWitheBackground'"
   ]
  },
  {
   "cell_type": "code",
   "execution_count": null,
   "id": "cfddf520",
   "metadata": {},
   "outputs": [],
   "source": [
    "from CanvasContext import CanvasContext\n",
    "\n",
    "# Create a canvas with an identifier \"cnv1\" of 250x150 pixels\n",
    "ctx = CanvasContext(\"cnv3\", 250, 150)\n",
    "\n",
    "# Draw the white background\n",
    "ctx.drawGridBackground()\n",
    "\n",
    "# Save context after drawing the background\n",
    "ctx.save()\n",
    "\n",
    "# Draw a rectangle\n",
    "ctx.strokeStyle = \"orange\"\n",
    "ctx.lineWidth = 10\n",
    "ctx.beginPath()\n",
    "ctx.strokeRect(50, 50, 100, 75)\n",
    "ctx.stroke()\n",
    "\n",
    "ctx.restore()\n",
    "\n",
    "# Send drawing commands to the browser\n",
    "ctx.display()"
   ]
  },
  {
   "cell_type": "markdown",
   "id": "2e41dbd3",
   "metadata": {},
   "source": [
    "## Get canvas size\n",
    "\n",
    "This is an example of how to get canvas size:"
   ]
  },
  {
   "cell_type": "code",
   "execution_count": null,
   "id": "bc20741b",
   "metadata": {},
   "outputs": [],
   "source": [
    "from CanvasContext import CanvasContext\n",
    "\n",
    "# Create a canvas with an identifier \"cnv1\" of 250x150 pixels\n",
    "ctx = CanvasContext(\"cnv4\", 250, 150)\n",
    "\n",
    "# Draw the white background\n",
    "ctx.drawGridBackground()\n",
    "\n",
    "# Save context after drawing the background\n",
    "ctx.save()\n",
    "\n",
    "# Add variables to store canvas width and height\n",
    "ctx.addVariable(\"cnvWidth\", \"${ctx.canvas.width}\")\n",
    "ctx.addVariable(\"cnvHeight\", \"${ctx.canvas.height}\")\n",
    "\n",
    "# Draw a rectangle\n",
    "ctx.strokeStyle = \"green\"\n",
    "ctx.lineWidth = 10\n",
    "ctx.beginPath()\n",
    "ctx.moveTo(50, 50)\n",
    "ctx.lineTo(\"${cnvWidth - 50}\", \"${cnvHeight - 50}\")\n",
    "ctx.stroke()\n",
    "ctx.fillText(\"Canvas size: ${cnvWidth}x${cnvHeight}\", 125, 50)\n",
    "\n",
    "ctx.restore()\n",
    "\n",
    "# Send drawing commands to the browser\n",
    "ctx.display()"
   ]
  },
  {
   "cell_type": "markdown",
   "id": "d17ae3c1",
   "metadata": {},
   "source": [
    "## Interact with JavaScript code\n",
    "\n",
    "The way this library works, is by creating JavaScript code from every CanvasContext function call.\n",
    "\n",
    "When 'ctx.display()' is called, the JavaScript code is executed, and the drawing is displayed.\n",
    "\n",
    "This means that it's possible to interact with the JavaScript code, and modify the drawing.\n",
    "\n",
    "Additionally, it may help in working with variables more easily.\n",
    "\n",
    "Here's an example:"
   ]
  },
  {
   "cell_type": "code",
   "execution_count": null,
   "id": "9982ea9d",
   "metadata": {},
   "outputs": [],
   "source": [
    "from CanvasContext import CanvasContext\n",
    "\n",
    "# Create a canvas with an identifier \"cnv1\" of 250x150 pixels\n",
    "ctx = CanvasContext(\"cnv5\", 250, 150)\n",
    "\n",
    "# Draw the white background\n",
    "ctx.drawGridBackground()\n",
    "\n",
    "# Save context after drawing the background\n",
    "ctx.save()\n",
    "\n",
    "# Insert JavaScript code directly\n",
    "ctx.addJavaScript(\"\"\"\n",
    "var cnvWidth = ctx.canvas.width;\n",
    "var cnvHeight = ctx.canvas.height;\n",
    "\n",
    "var x0 = cnvWidth - 50;\n",
    "var y0 = 50;\n",
    "var x1 = 50;\n",
    "var y1 = cnvHeight - 50;\n",
    "\n",
    "ctx.strokeStyle = \"#FF0000\";\n",
    "ctx.lineWidth = 8;\n",
    "\n",
    "ctx.beginPath();\n",
    "ctx.moveTo(x0, y0);\n",
    "ctx.lineTo(x1, y1);\n",
    "\n",
    "ctx.stroke();\n",
    "ctx.fillText(\"Canvas size: \" + cnvWidth + \"x\" + cnvHeight, 50, 50);\n",
    "\"\"\")\n",
    "\n",
    "ctx.restore()\n",
    "\n",
    "# Send drawing commands to the browser\n",
    "ctx.display()"
   ]
  },
  {
   "cell_type": "markdown",
   "id": "2d5eae21",
   "metadata": {},
   "source": [
    "## Interactivity and advanced usage\n",
    "\n",
    "Here is the example:"
   ]
  },
  {
   "cell_type": "code",
   "execution_count": 4,
   "id": "d36817d1",
   "metadata": {},
   "outputs": [
    {
     "data": {
      "text/html": [
       "<canvas id=\"cnv5\" width=\"250\" height=\"150\" style=\"border:1px solid black;\"></canvas>"
      ],
      "text/plain": [
       "<IPython.core.display.HTML object>"
      ]
     },
     "metadata": {},
     "output_type": "display_data"
    },
    {
     "data": {
      "application/javascript": "\n        var canvas = document.getElementById('cnv5');\n        var ctx = canvas.getContext('2d');\n        \n        ctx.save();\n        \n        ctx.save();\n        ctx.fillStyle = \"white\";\n        ctx.fillRect(0, 0, ctx.canvas.width, ctx.canvas.height);\n        ctx.restore();\n        \n        ctx.save();\n        for (let x = 0; x <= ctx.canvas.width; x += 25) {\n            ctx.strokeStyle = (x % 50 === 0) ? \"#888888\" : \"#cccccc\";\n            ctx.beginPath();\n            ctx.moveTo(x, 0);\n            ctx.lineTo(x, ctx.canvas.height);\n            ctx.stroke();\n            \n            if (x % 50 === 0 && x !== 0) {\n                ctx.fillStyle = \"#000000\";\n                ctx.fillText(x.toString(), x, 10);\n            }\n        }\n        for (let y = 0; y <= ctx.canvas.height; y += 25) {\n            ctx.strokeStyle = (y % 50 === 0) ? \"#888888\" : \"#cccccc\";\n            ctx.beginPath();\n            ctx.moveTo(0, y);\n            ctx.lineTo(ctx.canvas.width, y);\n            ctx.stroke();\n            \n            if (y % 50 === 0 && y !== 0) {\n                ctx.fillStyle = \"#000000\";\n                ctx.fillText(y.toString(), 5, y + 10);\n            }\n        }\n        ctx.restore();\n        \n        ctx.font = `18px Arial`;\n        \n        ctx.fillStyle = `black`;\n        \n        ctx.fillText(`Move mouse`, 50, 50);\n        \n        ctx.fillText(`over this canvas`, 50, 75);\n        \n\nwindow.getMousePos = function(canvas, evt) {\n    var cnv = document.getElementById(\"cnv5\");\n    var rect = cnv.getBoundingClientRect();\n    var scaleX = canvas.width / rect.width;\n    var scaleY = canvas.height / rect.height;\n\n    return {\n        x: (evt.clientX - rect.left) * scaleX,\n        y: (evt.clientY - rect.top) * scaleY\n    };\n}\n\nwindow.updateDrawing5 = function() {\n    var cnv = document.getElementById(\"cnv5\");\n    var ctx = cnv.getContext(\"2d\");\n                  \n    var cnvWidth = cnv.width;\n    var cnvHeight = cnv.height;\n    var mousePos = getMousePos(ctx.canvas, event);\n    var mX = mousePos.x;\n    var mY = mousePos.y;\n\n    ctx.save();\n    ctx.fillStyle = \"white\";\n    ctx.fillRect(0, 0, cnvWidth, cnvHeight);\n    \n    ctx.strokeStyle = \"green\";\n    ctx.lineWidth = 8;\n    ctx.beginPath();\n    ctx.arc(mX, mY, 16, 0, 2 * Math.PI);\n    ctx.stroke();\n    ctx.restore();\n}\n\nwindow.removeEventListener(\"mousemove\", window.currentListener);\nwindow.currentListener = updateDrawing5;\nwindow.addEventListener(\"mousemove\", window.currentListener);\n\n        ctx.restore();\n        \n        var canvas = document.getElementById('cnv0');\n        var ctx = canvas.getContext('2d');\n        \n        ctx.save();\n        \n        ctx.fillStyle = `white`;\n        \n        ctx.fillRect(0, 0, 500, 300);\n        \n        ctx.fillStyle = `rgb(0, 0, 200)`;\n        \n        ctx.fillRect(50, 50, 200, 100);\n        \n        ctx.strokeStyle = `green`;\n        \n        ctx.lineWidth = 5;\n        \n        ctx.strokeRect(100, 100, 200, 100);\n        \n        ctx.fillStyle = `black`;\n        \n        ctx.font = `26px Arial`;\n        \n        ctx.fillText(`Hello, world!`, 150, 250);\n        \n        ctx.restore();\n        \n        var canvas = document.getElementById('cnv5');\n        var ctx = canvas.getContext('2d');\n        \n        ctx.save();\n        \n        ctx.save();\n        ctx.fillStyle = \"white\";\n        ctx.fillRect(0, 0, ctx.canvas.width, ctx.canvas.height);\n        ctx.restore();\n        \n        ctx.save();\n        for (let x = 0; x <= ctx.canvas.width; x += 25) {\n            ctx.strokeStyle = (x % 50 === 0) ? \"#888888\" : \"#cccccc\";\n            ctx.beginPath();\n            ctx.moveTo(x, 0);\n            ctx.lineTo(x, ctx.canvas.height);\n            ctx.stroke();\n            \n            if (x % 50 === 0 && x !== 0) {\n                ctx.fillStyle = \"#000000\";\n                ctx.fillText(x.toString(), x, 10);\n            }\n        }\n        for (let y = 0; y <= ctx.canvas.height; y += 25) {\n            ctx.strokeStyle = (y % 50 === 0) ? \"#888888\" : \"#cccccc\";\n            ctx.beginPath();\n            ctx.moveTo(0, y);\n            ctx.lineTo(ctx.canvas.width, y);\n            ctx.stroke();\n            \n            if (y % 50 === 0 && y !== 0) {\n                ctx.fillStyle = \"#000000\";\n                ctx.fillText(y.toString(), 5, y + 10);\n            }\n        }\n        ctx.restore();\n        \n        ctx.font = `18px Arial`;\n        \n        ctx.fillStyle = `black`;\n        \n        ctx.fillText(`Move mouse`, 50, 50);\n        \n        ctx.fillText(`over this canvas`, 50, 75);\n        \n\nwindow.getMousePos = function(canvas, evt) {\n    var cnv = document.getElementById(\"cnv5\");\n    var rect = cnv.getBoundingClientRect();\n    var scaleX = canvas.width / rect.width;\n    var scaleY = canvas.height / rect.height;\n\n    return {\n        x: (evt.clientX - rect.left) * scaleX,\n        y: (evt.clientY - rect.top) * scaleY\n    };\n}\n\nwindow.updateDrawing5 = function() {\n    var cnv = document.getElementById(\"cnv5\");\n    var ctx = cnv.getContext(\"2d\");\n                  \n    var cnvWidth = cnv.width;\n    var cnvHeight = cnv.height;\n    var mousePos = getMousePos(ctx.canvas, event);\n    var mX = mousePos.x;\n    var mY = mousePos.y;\n\n    ctx.save();\n    ctx.fillStyle = \"white\";\n    ctx.fillRect(0, 0, cnvWidth, cnvHeight);\n    \n    ctx.strokeStyle = \"green\";\n    ctx.lineWidth = 8;\n    ctx.beginPath();\n    ctx.arc(mX, mY, 16, 0, 2 * Math.PI);\n    ctx.stroke();\n    ctx.restore();\n}\n\nwindow.removeEventListener(\"mousemove\", window.currentListener);\nwindow.currentListener = updateDrawing5;\nwindow.addEventListener(\"mousemove\", window.currentListener);\n\n        ctx.restore();\n        \n        var canvas = document.getElementById('cnv5');\n        var ctx = canvas.getContext('2d');\n        \n        ctx.save();\n        \n        ctx.save();\n        ctx.fillStyle = \"white\";\n        ctx.fillRect(0, 0, ctx.canvas.width, ctx.canvas.height);\n        ctx.restore();\n        \n        ctx.save();\n        for (let x = 0; x <= ctx.canvas.width; x += 25) {\n            ctx.strokeStyle = (x % 50 === 0) ? \"#888888\" : \"#cccccc\";\n            ctx.beginPath();\n            ctx.moveTo(x, 0);\n            ctx.lineTo(x, ctx.canvas.height);\n            ctx.stroke();\n            \n            if (x % 50 === 0 && x !== 0) {\n                ctx.fillStyle = \"#000000\";\n                ctx.fillText(x.toString(), x, 10);\n            }\n        }\n        for (let y = 0; y <= ctx.canvas.height; y += 25) {\n            ctx.strokeStyle = (y % 50 === 0) ? \"#888888\" : \"#cccccc\";\n            ctx.beginPath();\n            ctx.moveTo(0, y);\n            ctx.lineTo(ctx.canvas.width, y);\n            ctx.stroke();\n            \n            if (y % 50 === 0 && y !== 0) {\n                ctx.fillStyle = \"#000000\";\n                ctx.fillText(y.toString(), 5, y + 10);\n            }\n        }\n        ctx.restore();\n        \n        ctx.font = `18px Arial`;\n        \n        ctx.fillStyle = `black`;\n        \n        ctx.fillText(`Move mouse`, 50, 50);\n        \n        ctx.fillText(`over this canvas`, 50, 75);\n        \n\nwindow.getMousePos = function(canvas, evt) {\n    var cnv = document.getElementById(\"cnv5\");\n    var rect = cnv.getBoundingClientRect();\n    var scaleX = canvas.width / rect.width;\n    var scaleY = canvas.height / rect.height;\n\n    return {\n        x: (evt.clientX - rect.left) * scaleX,\n        y: (evt.clientY - rect.top) * scaleY\n    };\n}\n\nwindow.updateDrawing5 = function() {\n    var cnv = document.getElementById(\"cnv5\");\n    var ctx = cnv.getContext(\"2d\");\n                  \n    var cnvWidth = cnv.width;\n    var cnvHeight = cnv.height;\n    var mousePos = getMousePos(ctx.canvas, event);\n    var mX = mousePos.x;\n    var mY = mousePos.y;\n\n    ctx.save();\n    ctx.fillStyle = \"white\";\n    ctx.fillRect(0, 0, cnvWidth, cnvHeight);\n    \n    ctx.strokeStyle = \"green\";\n    ctx.lineWidth = 8;\n    ctx.beginPath();\n    ctx.arc(mX, mY, 16, 0, 2 * Math.PI);\n    ctx.stroke();\n    ctx.restore();\n}\n\nwindow.removeEventListener(\"mousemove\", window.currentListener);\nwindow.currentListener = updateDrawing5;\nwindow.addEventListener(\"mousemove\", window.currentListener);\n\n        ctx.restore();\n        ",
      "text/plain": [
       "<IPython.core.display.Javascript object>"
      ]
     },
     "metadata": {},
     "output_type": "display_data"
    }
   ],
   "source": [
    "from CanvasContext import CanvasContext\n",
    "\n",
    "# Create a canvas with an identifier \"cnv1\" of 250x150 pixels\n",
    "ctx = CanvasContext(\"cnv5\", 250, 150)\n",
    "\n",
    "# Save context after drawing the background\n",
    "ctx.save()\n",
    "\n",
    "ctx.drawGridBackground()\n",
    "\n",
    "ctx.font = \"18px Arial\"\n",
    "ctx.fillStyle = \"black\"\n",
    "ctx.fillText(\"Move mouse\", 50, 50)\n",
    "ctx.fillText(\"over this canvas\", 50, 75)\n",
    "\n",
    "# Insert JavaScript code directly\n",
    "ctx.addJavaScript(\"\"\"\n",
    "\n",
    "window.getMousePos = function(canvas, evt) {\n",
    "    var cnv = document.getElementById(\"cnv5\");\n",
    "    var rect = cnv.getBoundingClientRect();\n",
    "    var scaleX = canvas.width / rect.width;\n",
    "    var scaleY = canvas.height / rect.height;\n",
    "\n",
    "    return {\n",
    "        x: (evt.clientX - rect.left) * scaleX,\n",
    "        y: (evt.clientY - rect.top) * scaleY\n",
    "    };\n",
    "}\n",
    "\n",
    "window.updateDrawing5 = function() {\n",
    "    var cnv = document.getElementById(\"cnv5\");\n",
    "    var ctx = cnv.getContext(\"2d\");\n",
    "                  \n",
    "    var cnvWidth = cnv.width;\n",
    "    var cnvHeight = cnv.height;\n",
    "    var mousePos = getMousePos(ctx.canvas, event);\n",
    "    var mX = mousePos.x;\n",
    "    var mY = mousePos.y;\n",
    "\n",
    "    ctx.save();\n",
    "    ctx.fillStyle = \"white\";\n",
    "    ctx.fillRect(0, 0, cnvWidth, cnvHeight);\n",
    "    \n",
    "    ctx.strokeStyle = \"green\";\n",
    "    ctx.lineWidth = 8;\n",
    "    ctx.beginPath();\n",
    "    ctx.arc(mX, mY, 16, 0, 2 * Math.PI);\n",
    "    ctx.stroke();\n",
    "    ctx.restore();\n",
    "}\n",
    "\n",
    "window.removeEventListener(\"mousemove\", window.currentListener);\n",
    "window.currentListener = updateDrawing5;\n",
    "window.addEventListener(\"mousemove\", window.currentListener);\n",
    "\"\"\")\n",
    "\n",
    "ctx.restore()\n",
    "\n",
    "# Send drawing commands to the browser\n",
    "ctx.display()"
   ]
  }
 ],
 "metadata": {
  "kernelspec": {
   "display_name": "Python 3 (ipykernel)",
   "language": "python",
   "name": "python3"
  },
  "language_info": {
   "codemirror_mode": {
    "name": "ipython",
    "version": 3
   },
   "file_extension": ".py",
   "mimetype": "text/x-python",
   "name": "python",
   "nbconvert_exporter": "python",
   "pygments_lexer": "ipython3",
   "version": "3.11.5"
  }
 },
 "nbformat": 4,
 "nbformat_minor": 5
}
