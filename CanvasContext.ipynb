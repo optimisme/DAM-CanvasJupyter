{
 "cells": [
  {
   "cell_type": "code",
   "execution_count": null,
   "id": "ffcd8160-df60-4330-a0e4-5d646b8a905b",
   "metadata": {},
   "outputs": [],
   "source": []
  },
  {
   "cell_type": "code",
   "execution_count": 1,
   "id": "cb538d72-4b7e-47f9-940a-ecec421267fb",
   "metadata": {},
   "outputs": [
    {
     "data": {
      "text/html": [
       "<canvas id=\"meuCanvas\" width=\"500\" height=\"500\" style=\"border:1px solid black;\"></canvas>"
      ],
      "text/plain": [
       "<IPython.core.display.HTML object>"
      ]
     },
     "metadata": {},
     "output_type": "display_data"
    },
    {
     "data": {
      "application/javascript": "\n        window.getContext_meuCanvas = function() {\n            var canvas = document.getElementById('meuCanvas');\n            return canvas.getContext('2d');\n        };\n        ",
      "text/plain": [
       "<IPython.core.display.Javascript object>"
      ]
     },
     "metadata": {},
     "output_type": "display_data"
    },
    {
     "data": {
      "application/javascript": "\n        var ctx = window.getContext_meuCanvas();\n        ctx.fillRect(50, 50, 200, 100);\n        ",
      "text/plain": [
       "<IPython.core.display.Javascript object>"
      ]
     },
     "metadata": {},
     "output_type": "display_data"
    },
    {
     "data": {
      "application/javascript": "\n        var ctx = window.getContext_meuCanvas();\n        ctx.strokeStyle = 'red';\n        ",
      "text/plain": [
       "<IPython.core.display.Javascript object>"
      ]
     },
     "metadata": {},
     "output_type": "display_data"
    },
    {
     "data": {
      "application/javascript": "\n        var ctx = window.getContext_meuCanvas();\n        ctx.strokeRect(100, 100, 200, 100);\n        ",
      "text/plain": [
       "<IPython.core.display.Javascript object>"
      ]
     },
     "metadata": {},
     "output_type": "display_data"
    },
    {
     "data": {
      "application/javascript": "\n        var ctx = window.getContext_meuCanvas();\n        ctx.fillText('Hola, món!', 150, 250);\n        ",
      "text/plain": [
       "<IPython.core.display.Javascript object>"
      ]
     },
     "metadata": {},
     "output_type": "display_data"
    }
   ],
   "source": [
    "from CanvasContext import CanvasContext\n",
    "\n",
    "# Create a canvas with an identifier \"cnv\" of 500x500 pixels\n",
    "ctx = CanvasContext(\"cnv\", 500, 300)\n",
    "\n",
    "# Draw a filled rectangle in blue (by default) at position (50, 50) with dimensions 200x100\n",
    "ctx.fillRect(50, 50, 200, 100)\n",
    "\n",
    "# Set the stroke style to green and draw a rectangle at position (100, 100) with dimensions 200x100\n",
    "ctx.strokeStyle = \"green\"\n",
    "ctx.lineWidth = 5\n",
    "ctx.strokeRect(100, 100, 200, 100)\n",
    "\n",
    "# Draw text at position (150, 250)\n",
    "ctx.font = \"26px Arial\"\n",
    "ctx.fillText(\"Hello, world!\", 150, 250)"
   ]
  },
  {
   "cell_type": "code",
   "execution_count": null,
   "id": "64dd1f73-e217-4ea8-9cb7-9716df11bc99",
   "metadata": {},
   "outputs": [],
   "source": []
  }
 ],
 "metadata": {
  "kernelspec": {
   "display_name": "Python 3 (ipykernel)",
   "language": "python",
   "name": "python3"
  },
  "language_info": {
   "codemirror_mode": {
    "name": "ipython",
    "version": 3
   },
   "file_extension": ".py",
   "mimetype": "text/x-python",
   "name": "python",
   "nbconvert_exporter": "python",
   "pygments_lexer": "ipython3",
   "version": "3.11.5"
  }
 },
 "nbformat": 4,
 "nbformat_minor": 5
}
