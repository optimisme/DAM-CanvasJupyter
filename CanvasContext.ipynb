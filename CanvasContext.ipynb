{
 "cells": [
  {
   "cell_type": "code",
   "execution_count": 1,
   "id": "cb538d72-4b7e-47f9-940a-ecec421267fb",
   "metadata": {},
   "outputs": [
    {
     "data": {
      "text/html": [
       "<canvas id=\"cnv\" width=\"500\" height=\"300\" style=\"border:1px solid black;\"></canvas>"
      ],
      "text/plain": [
       "<IPython.core.display.HTML object>"
      ]
     },
     "metadata": {},
     "output_type": "display_data"
    },
    {
     "data": {
      "application/javascript": "\n        window.getContext_cnv = function() {\n            var canvas = document.getElementById('cnv');\n            return canvas.getContext('2d');\n        };\n        ",
      "text/plain": [
       "<IPython.core.display.Javascript object>"
      ]
     },
     "metadata": {},
     "output_type": "display_data"
    },
    {
     "data": {
      "application/javascript": "\n        var ctx = window.getContext_cnv();\n        ctx.save();\n        ctx.fillStyle = \"white\";\n        ctx.fillRect(0, 0, ctx.canvas.width, ctx.canvas.height);\n        ctx.restore();\n        ",
      "text/plain": [
       "<IPython.core.display.Javascript object>"
      ]
     },
     "metadata": {},
     "output_type": "display_data"
    },
    {
     "data": {
      "application/javascript": "\n        var ctx = window.getContext_cnv();\n        ctx.save();\n        for (let x = 0; x <= ctx.canvas.width; x += 25) {\n            ctx.strokeStyle = (x % 50 === 0) ? \"#888888\" : \"#cccccc\";\n            ctx.beginPath();\n            ctx.moveTo(x, 0);\n            ctx.lineTo(x, ctx.canvas.height);\n            ctx.stroke();\n            \n            if (x % 50 === 0 && x !== 0) {\n                ctx.fillStyle = \"#000000\";\n                ctx.fillText(x.toString(), x, 10);\n            }\n        }\n\n        for (let y = 0; y <= ctx.canvas.height; y += 25) {\n            ctx.strokeStyle = (y % 50 === 0) ? \"#888888\" : \"#cccccc\";\n            ctx.beginPath();\n            ctx.moveTo(0, y);\n            ctx.lineTo(ctx.canvas.width, y);\n            ctx.stroke();\n            \n            if (y % 50 === 0 && y !== 0) {\n                ctx.fillStyle = \"#000000\";\n                ctx.fillText(y.toString(), 5, y + 10);\n            }\n        }\n        ctx.restore();\n        ",
      "text/plain": [
       "<IPython.core.display.Javascript object>"
      ]
     },
     "metadata": {},
     "output_type": "display_data"
    },
    {
     "data": {
      "application/javascript": "\n        var ctx = window.getContext_cnv();\n        ctx.fillRect(50, 50, 200, 100);\n        ",
      "text/plain": [
       "<IPython.core.display.Javascript object>"
      ]
     },
     "metadata": {},
     "output_type": "display_data"
    },
    {
     "data": {
      "application/javascript": "\n        var ctx = window.getContext_cnv();\n        ctx.strokeStyle = 'green';\n        ",
      "text/plain": [
       "<IPython.core.display.Javascript object>"
      ]
     },
     "metadata": {},
     "output_type": "display_data"
    },
    {
     "data": {
      "application/javascript": "\n        var ctx = window.getContext_cnv();\n        ctx.lineWidth = 5;\n        ",
      "text/plain": [
       "<IPython.core.display.Javascript object>"
      ]
     },
     "metadata": {},
     "output_type": "display_data"
    },
    {
     "data": {
      "application/javascript": "\n        var ctx = window.getContext_cnv();\n        ctx.strokeRect(100, 100, 200, 100);\n        ",
      "text/plain": [
       "<IPython.core.display.Javascript object>"
      ]
     },
     "metadata": {},
     "output_type": "display_data"
    },
    {
     "data": {
      "application/javascript": "\n        var ctx = window.getContext_cnv();\n        ctx.font = '26px Arial';\n        ",
      "text/plain": [
       "<IPython.core.display.Javascript object>"
      ]
     },
     "metadata": {},
     "output_type": "display_data"
    },
    {
     "data": {
      "application/javascript": "\n        var ctx = window.getContext_cnv();\n        ctx.fillText('Hello, world!', 150, 250);\n        ",
      "text/plain": [
       "<IPython.core.display.Javascript object>"
      ]
     },
     "metadata": {},
     "output_type": "display_data"
    }
   ],
   "source": [
    "from CanvasContext import CanvasContext\n",
    "\n",
    "# Create a canvas with an identifier \"cnv\" of 500x500 pixels\n",
    "ctx = CanvasContext(\"cnv\", 500, 300)\n",
    "\n",
    "# Draw background\n",
    "ctx.drawGridBackground()\n",
    "\n",
    "# Draw a filled rectangle in blue (by default) at position (50, 50) with dimensions 200x100\n",
    "ctx.fillRect(50, 50, 200, 100)\n",
    "\n",
    "# Set the stroke style to green and draw a rectangle at position (100, 100) with dimensions 200x100\n",
    "ctx.strokeStyle = \"green\"\n",
    "ctx.lineWidth = 5\n",
    "ctx.strokeRect(100, 100, 200, 100)\n",
    "\n",
    "# Draw text at position (150, 250)\n",
    "ctx.font = \"26px Arial\"\n",
    "ctx.fillText(\"Hello, world!\", 150, 250)"
   ]
  }
 ],
 "metadata": {
  "kernelspec": {
   "display_name": "Python 3 (ipykernel)",
   "language": "python",
   "name": "python3"
  },
  "language_info": {
   "codemirror_mode": {
    "name": "ipython",
    "version": 3
   },
   "file_extension": ".py",
   "mimetype": "text/x-python",
   "name": "python",
   "nbconvert_exporter": "python",
   "pygments_lexer": "ipython3",
   "version": "3.11.5"
  }
 },
 "nbformat": 4,
 "nbformat_minor": 5
}
