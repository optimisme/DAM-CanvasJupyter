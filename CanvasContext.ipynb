{
 "cells": [
  {
   "cell_type": "markdown",
   "id": "e4fc9632",
   "metadata": {},
   "source": [
    "# Canvas for Jupyter\n",
    "\n",
    "This small Python library allows drawing in Jupyter using the drawing Canvas. It acts as a bridge between Python and Javascript; for this reason, it's necessary to call the 'ctx.display()' function every time you want to process the drawing.\n",
    "\n",
    "Here's an example."
   ]
  },
  {
   "cell_type": "code",
   "execution_count": null,
   "id": "cb538d72-4b7e-47f9-940a-ecec421267fb",
   "metadata": {},
   "outputs": [],
   "source": [
    "from CanvasContext import CanvasContext\n",
    "\n",
    "# Create a canvas with an identifier \"cnv0\" of 500x300 pixels\n",
    "ctx = CanvasContext(\"cnv0\", 500, 300)\n",
    "\n",
    "# Draw the white background\n",
    "ctx.fillStyle = \"white\"\n",
    "ctx.fillRect(0, 0, 500, 300)\n",
    "\n",
    "# Draw a filled rectangle at position (50, 50) with dimensions 200x100\n",
    "ctx.fillStyle = \"rgb(0, 0, 200)\"\n",
    "ctx.fillRect(50, 50, 200, 100)\n",
    "\n",
    "# Set the stroke style to green and draw a rectangle at position (100, 100) with dimensions 200x100\n",
    "ctx.strokeStyle = \"green\"\n",
    "ctx.lineWidth = 5\n",
    "ctx.strokeRect(100, 100, 200, 100)\n",
    "\n",
    "# Draw text at position (150, 250)\n",
    "ctx.fillStyle = \"black\"\n",
    "ctx.font = \"26px Arial\"\n",
    "ctx.fillText(\"Hello, world!\", 150, 250)\n",
    "\n",
    "# Send drawing commands to the browser\n",
    "ctx.display()"
   ]
  },
  {
   "cell_type": "markdown",
   "id": "a538865d",
   "metadata": {},
   "source": [
    "## How to use it\n",
    "\n",
    "To use the library, you first need to import it:\n",
    "\n",
    "```python\n",
    "from Canvas import Canvas\n",
    "```\n",
    "\n",
    "Next, you need to create a CanvasContext object. In this object, you define the identifier of the Canvas where the drawing will be done, as well as the dimensions of the Canvas.\n",
    "\n",
    "```python\n",
    "ctx = CanvasContext(\"canvas\", 500, 300)\n",
    "```\n",
    "\n",
    "**Note**: Keep in mind, in a Jupyter Notebook, if you repeat a canvas identifier, the drawing will appear on the first ouput (canvas) that was executed with that identifier.\n",
    "\n",
    "Finally, to display the drawing, you need to call the 'display' function of the CanvasContext object.\n",
    "\n",
    "```python  \n",
    "ctx.display()\n",
    "```"
   ]
  },
  {
   "cell_type": "code",
   "execution_count": null,
   "id": "718d759e",
   "metadata": {},
   "outputs": [],
   "source": [
    "from CanvasContext import CanvasContext\n",
    "\n",
    "# Create a canvas with an identifier \"cnv1\" of 250x150 pixels\n",
    "ctx = CanvasContext(\"cnv1\", 250, 150)\n",
    "\n",
    "# Draw the white background\n",
    "ctx.fillStyle = \"red\"\n",
    "ctx.fillRect(0, 0, 250, 150)\n",
    "\n",
    "# Send drawing commands to the browser\n",
    "ctx.display()"
   ]
  },
  {
   "cell_type": "markdown",
   "id": "66eb5c6b",
   "metadata": {},
   "source": [
    "## Variables\n",
    "\n",
    "Variables require special handling.\n",
    "\n",
    "First, they need to be declared with 'addVariable', and to modify their value, you can use 'setVariable'.\n",
    "\n",
    "Some things should be kept in mind:\n",
    "\n",
    "- Within text strings, they can be used directly with the notation \\$\\{ \\}\n",
    "\n",
    "- When wanting to perform operations, the expression also needs to be placed within a text string using the notation \\$\\{ \\}\n",
    "\n",
    "- When getting values from context, a parameter 'destination variable name' must be passed"
   ]
  },
  {
   "cell_type": "code",
   "execution_count": 1,
   "id": "d776f3b7",
   "metadata": {},
   "outputs": [
    {
     "data": {
      "text/html": [
       "<canvas id=\"cnv2\" width=\"350\" height=\"200\" style=\"border:1px solid black;\"></canvas>"
      ],
      "text/plain": [
       "<IPython.core.display.HTML object>"
      ]
     },
     "metadata": {},
     "output_type": "display_data"
    },
    {
     "data": {
      "application/javascript": "\n        var canvas = document.getElementById('cnv2');\n        var ctx = canvas.getContext('2d');\n        \n        ctx.fillStyle = `white`;\n        \n        ctx.fillRect(0, 0, 350, 200);\n        \n        ctx.font = `18px Arial`;\n        \n        ctx.fillStyle = `black`;\n        \n        var a = 50;\n        \n        ctx.fillText(`ABC`, `${a}`, 50);\n        \n        ctx.fillText(`DEF`, `${a + 50}`, 75);\n        \n        a = 150;\n        \n        ctx.fillText(`GHI`, `${a}`, 100);\n        \n        a = `${a + 50}`;\n        \n        ctx.fillText(`JKL`, `${a}`, 125);\n        \n        var x = 50;\n        \n        var text = `Hello, world!`;\n        \n        var metrics = ``;\n        \n        metrics = ctx.measureText(`${text}`);\n        \n        ctx.fillText(`Width of '${text}': ${metrics.width.toFixed(2)}`, `${x}`, 150);\n        \n        ctx.fillText(`${text}`, 50, 175);\n        \n        ctx.fillText(`<<<<`, `${x + metrics.width}`, 175);\n        ",
      "text/plain": [
       "<IPython.core.display.Javascript object>"
      ]
     },
     "metadata": {},
     "output_type": "display_data"
    }
   ],
   "source": [
    "from CanvasContext import CanvasContext\n",
    "\n",
    "# Create a canvas\n",
    "ctx = CanvasContext(\"cnv2\", 350, 200)\n",
    "\n",
    "# Draw the white background\n",
    "ctx.fillStyle = \"white\"\n",
    "ctx.fillRect(0, 0, 350, 200)\n",
    "\n",
    "# Set text style\n",
    "ctx.font = \"18px Arial\"\n",
    "ctx.fillStyle = \"black\"\n",
    "\n",
    "# Define 'a' variable\n",
    "ctx.addVariable(\"a\", 50)\n",
    "\n",
    "# Draw text at position (a, 50)\n",
    "ctx.fillText(\"ABC\", \"${a}\", 50)\n",
    "\n",
    "# Draw text at position (a + 50, 75)\n",
    "ctx.fillText(\"DEF\", \"${a + 50}\", 75)\n",
    "\n",
    "# Change 'a' variable value\n",
    "ctx.setVariable(\"a\", 150)\n",
    "ctx.fillText(\"GHI\", \"${a}\", 100)\n",
    "\n",
    "# Add 50 to 'a'\n",
    "ctx.setVariable(\"a\", \"${a + 50}\")\n",
    "ctx.fillText(\"JKL\", \"${a}\", 125)\n",
    "\n",
    "# Get context values (text metrics)\n",
    "ctx.addVariable(\"x\", 50)\n",
    "ctx.addVariable(\"text\", \"Hello, world!\")\n",
    "ctx.addVariable(\"metrics\", \"\")\n",
    "ctx.measureText(\"metrics\", \"${text}\")\n",
    "ctx.fillText(\"Width of '${text}': ${metrics.width.toFixed(2)}\", \"${x}\", 150)\n",
    "ctx.fillText(\"${text}\", 50, 175)\n",
    "ctx.fillText(\"<<<<\", \"${x + metrics.width}\", 175)\n",
    "\n",
    "# Send drawing commands to the browser\n",
    "ctx.display()"
   ]
  }
 ],
 "metadata": {
  "kernelspec": {
   "display_name": "Python 3 (ipykernel)",
   "language": "python",
   "name": "python3"
  },
  "language_info": {
   "codemirror_mode": {
    "name": "ipython",
    "version": 3
   },
   "file_extension": ".py",
   "mimetype": "text/x-python",
   "name": "python",
   "nbconvert_exporter": "python",
   "pygments_lexer": "ipython3",
   "version": "3.11.5"
  }
 },
 "nbformat": 4,
 "nbformat_minor": 5
}
