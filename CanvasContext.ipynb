{
 "cells": [
  {
   "cell_type": "code",
   "execution_count": null,
   "id": "cb538d72-4b7e-47f9-940a-ecec421267fb",
   "metadata": {},
   "outputs": [],
   "source": [
    "from CanvasContext import CanvasContext\n",
    "\n",
    "# Create a canvas with an identifier \"cnv\" of 500x300 pixels\n",
    "ctx = CanvasContext(\"cnv\", 500, 300)\n",
    "\n",
    "# Draw background\n",
    "ctx.drawGridBackground()\n",
    "\n",
    "# Draw a filled rectangle in blue (by default) at position (50, 50) with dimensions 200x100\n",
    "ctx.fillRect(50, 50, 200, 100)\n",
    "\n",
    "# Set the stroke style to green and draw a rectangle at position (100, 100) with dimensions 200x100\n",
    "ctx.strokeStyle = \"green\"\n",
    "ctx.lineWidth = 5\n",
    "ctx.strokeRect(100, 100, 200, 100)\n",
    "\n",
    "# Draw text at position (150, 250)\n",
    "ctx.font = \"26px Arial\"\n",
    "ctx.fillText(\"Hello, world!\", 150, 250)"
   ]
  }
 ],
 "metadata": {
  "kernelspec": {
   "display_name": "Python 3 (ipykernel)",
   "language": "python",
   "name": "python3"
  },
  "language_info": {
   "codemirror_mode": {
    "name": "ipython",
    "version": 3
   },
   "file_extension": ".py",
   "mimetype": "text/x-python",
   "name": "python",
   "nbconvert_exporter": "python",
   "pygments_lexer": "ipython3",
   "version": "3.11.2"
  }
 },
 "nbformat": 4,
 "nbformat_minor": 5
}
